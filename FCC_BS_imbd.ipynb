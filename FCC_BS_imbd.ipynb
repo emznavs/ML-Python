{
  "nbformat": 4,
  "nbformat_minor": 0,
  "metadata": {
    "colab": {
      "provenance": [],
      "authorship_tag": "ABX9TyPRr74q+Wut37IKiGaeuwmx",
      "include_colab_link": true
    },
    "kernelspec": {
      "name": "python3",
      "display_name": "Python 3"
    },
    "language_info": {
      "name": "python"
    }
  },
  "cells": [
    {
      "cell_type": "markdown",
      "metadata": {
        "id": "view-in-github",
        "colab_type": "text"
      },
      "source": [
        "<a href=\"https://colab.research.google.com/github/emznavs/ML-Python/blob/main/FCC_BS_imbd.ipynb\" target=\"_parent\"><img src=\"https://colab.research.google.com/assets/colab-badge.svg\" alt=\"Open In Colab\"/></a>"
      ]
    },
    {
      "cell_type": "code",
      "source": [
        "import requests\n",
        "from bs4 import BeautifulSoup\n",
        "\n",
        "url = \"https://www.imdb.com/chart/top/\"\n",
        "headers = {\n",
        "    'User-Agent': 'Mozilla/5.0 (Windows NT 10.0; Win64; x64) AppleWebKit/537.36 (KHTML, like Gecko) Chrome/91.0.4472.124 Safari/537.36',\n",
        "    'Accept-Language': 'en-US,en;q=0.5'  # Request English content\n",
        "}\n",
        "\n",
        "response = requests.get(url, headers=headers)\n",
        "soup = BeautifulSoup(response.content, 'html.parser')\n",
        "\n",
        "# Try to find movie titles, excluding the first one which is likely a header\n",
        "movie_elements = soup.find_all('h3', class_='ipc-title__text')[1:6]  # Get elements 2-6\n",
        "\n",
        "if movie_elements:\n",
        "    for element in movie_elements:\n",
        "        # Remove the ranking number at the start of each title\n",
        "        title = element.text.split('. ', 1)[-1] if '. ' in element.text else element.text\n",
        "        print(title)\n",
        "else:\n",
        "    print(\"Couldn't find movie titles. The page structure might have changed.\")\n",
        "    print(\"Here's a sample of what the page looks like:\")\n",
        "    print(soup.prettify()[:1000])  # Print the first 1000 characters of the HTML\n",
        "\n",
        "#print(f\"\\nResponse status code: {response.status_code}\")"
      ],
      "metadata": {
        "colab": {
          "base_uri": "https://localhost:8080/"
        },
        "id": "B6_Vkef12Zkq",
        "outputId": "77dc6aed-d29e-49f3-9183-f797426ac4c1"
      },
      "execution_count": null,
      "outputs": [
        {
          "output_type": "stream",
          "name": "stdout",
          "text": [
            "The Shawshank Redemption\n",
            "The Godfather\n",
            "The Dark Knight\n",
            "The Godfather Part II\n",
            "12 Angry Men\n"
          ]
        }
      ]
    },
    {
      "cell_type": "code",
      "source": [
        "import requests\n",
        "from bs4 import BeautifulSoup\n",
        "\n",
        "url = \"https://www.imdb.com/chart/top/\"\n",
        "headers = {\n",
        "    'User-Agent': 'Mozilla/5.0 (Windows NT 10.0; Win64; x64) AppleWebKit/537.36 (KHTML, like Gecko) Chrome/91.0.4472.124 Safari/537.36',\n",
        "    'Accept-Language': 'en-US,en;q=0.5'  # Request English content\n",
        "}\n",
        "\n",
        "response = requests.get(url, headers=headers)\n",
        "soup = BeautifulSoup(response.content, 'html.parser')\n",
        "\n",
        "# Find all list items that contain movie information\n",
        "movie_items = soup.find_all('li', class_='ipc-metadata-list-summary-item')[:5]\n",
        "\n",
        "if movie_items:\n",
        "    for item in movie_items:\n",
        "        # Find the title\n",
        "        title_element = item.find('h3', class_='ipc-title__text')\n",
        "        title = title_element.text.split('. ', 1)[-1] if title_element else \"Title not found\"\n",
        "\n",
        "        # Find the rating\n",
        "        rating_element = item.find('span', class_='ipc-rating-star--imdb')\n",
        "        rating = rating_element.text.split()[0] if rating_element else \"Rating not found\"\n",
        "\n",
        "        print(f\"Title: {title}\")\n",
        "        print(f\"Rating: {rating}\")\n",
        "        print(\"--------------------\")\n",
        "else:\n",
        "    print(\"Couldn't find movie items. The page structure might have changed.\")\n",
        "    print(\"Here's a sample of what the page looks like:\")\n",
        "    print(soup.prettify()[:1000])  # Print the first 1000 characters of the HTML\n",
        "\n",
        "print(f\"\\nResponse status code: {response.status_code}\")"
      ],
      "metadata": {
        "colab": {
          "base_uri": "https://localhost:8080/"
        },
        "id": "ct1-OFgE4Gqi",
        "outputId": "22a8f5f7-cc50-4b5e-abbb-8f74aff9f15d"
      },
      "execution_count": null,
      "outputs": [
        {
          "output_type": "stream",
          "name": "stdout",
          "text": [
            "Title: The Shawshank Redemption\n",
            "Rating: 9.3\n",
            "--------------------\n",
            "Title: The Godfather\n",
            "Rating: 9.2\n",
            "--------------------\n",
            "Title: The Dark Knight\n",
            "Rating: 9.0\n",
            "--------------------\n",
            "Title: The Godfather Part II\n",
            "Rating: 9.0\n",
            "--------------------\n",
            "Title: 12 Angry Men\n",
            "Rating: 9.0\n",
            "--------------------\n",
            "\n",
            "Response status code: 200\n"
          ]
        }
      ]
    },
    {
      "cell_type": "code",
      "source": [],
      "metadata": {
        "id": "wAPM1q119W-I"
      },
      "execution_count": null,
      "outputs": []
    }
  ]
}